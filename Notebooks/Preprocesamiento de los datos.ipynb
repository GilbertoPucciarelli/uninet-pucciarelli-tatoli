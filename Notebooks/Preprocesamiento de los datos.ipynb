{
 "cells": [
  {
   "cell_type": "code",
   "execution_count": 1,
   "metadata": {},
   "outputs": [],
   "source": [
    "import pandas as pd\n",
    "import os\n",
    "import numpy as np"
   ]
  },
  {
   "cell_type": "code",
   "execution_count": 2,
   "metadata": {},
   "outputs": [],
   "source": [
    "only_assigns = set(line.strip() for line in open('only_assigns.txt'))"
   ]
  },
  {
   "cell_type": "code",
   "execution_count": 3,
   "metadata": {},
   "outputs": [
    {
     "data": {
      "text/plain": [
       "'C:\\\\Users\\\\gilbe\\\\Desktop\\\\Notebooks Tesis'"
      ]
     },
     "execution_count": 3,
     "metadata": {},
     "output_type": "execute_result"
    }
   ],
   "source": [
    "os.getcwd()"
   ]
  },
  {
   "cell_type": "code",
   "execution_count": 4,
   "metadata": {},
   "outputs": [],
   "source": [
    "rootdir = os.getcwd()\n",
    "a = os.path.join(rootdir, 'Data')\n",
    "os.chdir(a)\n",
    "rootdir = os.getcwd()"
   ]
  },
  {
   "cell_type": "code",
   "execution_count": 27,
   "metadata": {},
   "outputs": [
    {
     "name": "stdout",
     "output_type": "stream",
     "text": [
      "por:  rend 2011-007.xlsx\n",
      "por:  rend 2011-008.xlsx\n",
      "por:  rend 2011-009.xlsx\n",
      "por:  rend 2012-007.xlsx\n",
      "por:  rend 2012-008.xlsx\n",
      "por:  rend 2012-009.xlsx\n",
      "por:  rend 2013-007.xlsx\n",
      "por:  rend 2013-008.xlsx\n",
      "por:  rend 2013-009.xlsx\n",
      "por:  rend 2014-007.xlsx\n",
      "131\n",
      "rend 2014-007.xlsx\n",
      "por:  rend 2014-008.xlsx\n",
      "por:  rend 2014-009.xlsx\n",
      "120\n",
      "rend 2014-009.xlsx\n",
      "por:  rend 2015-007.xlsx\n",
      "por:  rend 2015-008.xlsx\n",
      "por:  rend 2015-009.xlsx\n",
      "por:  rend 2016-007.xlsx\n",
      "por:  rend 2016-008.xlsx\n",
      "por:  rend 2016.009.xlsx\n",
      "por:  rend 2017-007.xlsx\n",
      "por:  rend 2017-008.xlsx\n",
      "por:  rend 2017-009.xlsx\n",
      "por:  rend 2018-007.xlsx\n",
      "por:  rend 2018-008.xlsx\n",
      "por:  rend 2018-009.xlsx\n",
      "Wall time: 2min 3s\n"
     ]
    }
   ],
   "source": [
    "%%time\n",
    "df_temp = pd.DataFrame()\n",
    "for subdir, dirs, files in os.walk(rootdir):\n",
    "    for file in files:\n",
    "        temp = pd.read_excel(file)\n",
    "        temp['trim'] = file\n",
    "        print('por: ',file)\n",
    "        if(temp[temp['asignatura'].isnull()].shape[0]>0):\n",
    "            print(temp[temp['asignatura'].isnull()].shape[0])\n",
    "            print(file)\n",
    "        #print(temp.columns)\n",
    "        #print('................')\n",
    "        df_temp = df_temp.append(temp)\n",
    "df = df_temp      "
   ]
  },
  {
   "cell_type": "code",
   "execution_count": 6,
   "metadata": {},
   "outputs": [],
   "source": [
    "#df = pd.read_csv('../original.csv')"
   ]
  },
  {
   "cell_type": "code",
   "execution_count": 28,
   "metadata": {},
   "outputs": [
    {
     "data": {
      "text/html": [
       "<div>\n",
       "<style scoped>\n",
       "    .dataframe tbody tr th:only-of-type {\n",
       "        vertical-align: middle;\n",
       "    }\n",
       "\n",
       "    .dataframe tbody tr th {\n",
       "        vertical-align: top;\n",
       "    }\n",
       "\n",
       "    .dataframe thead th {\n",
       "        text-align: right;\n",
       "    }\n",
       "</style>\n",
       "<table border=\"1\" class=\"dataframe\">\n",
       "  <thead>\n",
       "    <tr style=\"text-align: right;\">\n",
       "      <th></th>\n",
       "      <th>Plan de Estudios</th>\n",
       "      <th>C.I.</th>\n",
       "      <th>codigo</th>\n",
       "      <th>asignatura</th>\n",
       "      <th>nombre</th>\n",
       "      <th>Símbolo de notas</th>\n",
       "      <th>Sección (Evento)</th>\n",
       "      <th>Unnamed: 7</th>\n",
       "      <th>Sección (Paq.Eventos)</th>\n",
       "      <th>Docente</th>\n",
       "      <th>trim</th>\n",
       "      <th>cod</th>\n",
       "      <th>nombre asignatura</th>\n",
       "      <th>nombre</th>\n",
       "      <th>nom asignatura</th>\n",
       "      <th>Unnamed: 2</th>\n",
       "      <th>Módulo</th>\n",
       "      <th>Unnamed: 4</th>\n",
       "      <th>cod</th>\n",
       "    </tr>\n",
       "  </thead>\n",
       "  <tbody>\n",
       "    <tr>\n",
       "      <th>0</th>\n",
       "      <td>CIENCIAS ADMINISTRATIVAS</td>\n",
       "      <td>18818660</td>\n",
       "      <td>1000011.0</td>\n",
       "      <td>BPTBC26</td>\n",
       "      <td>PRESUPUESTO EMPRESARIAL</td>\n",
       "      <td>11</td>\n",
       "      <td>E/30030328</td>\n",
       "      <td>E/30030328</td>\n",
       "      <td>7025292</td>\n",
       "      <td>Rivas Nieto, Roberto</td>\n",
       "      <td>rend 2011-007.xlsx</td>\n",
       "      <td>NaN</td>\n",
       "      <td>NaN</td>\n",
       "      <td>NaN</td>\n",
       "      <td>NaN</td>\n",
       "      <td>NaN</td>\n",
       "      <td>NaN</td>\n",
       "      <td>NaN</td>\n",
       "      <td>NaN</td>\n",
       "    </tr>\n",
       "    <tr>\n",
       "      <th>1</th>\n",
       "      <td>CIENCIAS ADMINISTRATIVAS</td>\n",
       "      <td>18818660</td>\n",
       "      <td>1000118.0</td>\n",
       "      <td>BPTFN06</td>\n",
       "      <td>MICROFINANZAS</td>\n",
       "      <td>18</td>\n",
       "      <td>E/30029863</td>\n",
       "      <td>E/30029863</td>\n",
       "      <td>7024970</td>\n",
       "      <td>Quintero Moros, Nelson</td>\n",
       "      <td>rend 2011-007.xlsx</td>\n",
       "      <td>NaN</td>\n",
       "      <td>NaN</td>\n",
       "      <td>NaN</td>\n",
       "      <td>NaN</td>\n",
       "      <td>NaN</td>\n",
       "      <td>NaN</td>\n",
       "      <td>NaN</td>\n",
       "      <td>NaN</td>\n",
       "    </tr>\n",
       "    <tr>\n",
       "      <th>2</th>\n",
       "      <td>CIENCIAS ADMINISTRATIVAS</td>\n",
       "      <td>18818660</td>\n",
       "      <td>1000691.0</td>\n",
       "      <td>FBTIE01</td>\n",
       "      <td>INICIATIVA EMPRENDEDORA</td>\n",
       "      <td>14</td>\n",
       "      <td>E/30029795</td>\n",
       "      <td>E/30029795</td>\n",
       "      <td>7024903</td>\n",
       "      <td>Figarella Trujillo, Veronica Elisa</td>\n",
       "      <td>rend 2011-007.xlsx</td>\n",
       "      <td>NaN</td>\n",
       "      <td>NaN</td>\n",
       "      <td>NaN</td>\n",
       "      <td>NaN</td>\n",
       "      <td>NaN</td>\n",
       "      <td>NaN</td>\n",
       "      <td>NaN</td>\n",
       "      <td>NaN</td>\n",
       "    </tr>\n",
       "    <tr>\n",
       "      <th>3</th>\n",
       "      <td>CIENCIAS ADMINISTRATIVAS</td>\n",
       "      <td>18818660</td>\n",
       "      <td>1000448.0</td>\n",
       "      <td>FPTIE67</td>\n",
       "      <td>PROCESOS GERENCIALES</td>\n",
       "      <td>18</td>\n",
       "      <td>E/30029431</td>\n",
       "      <td>E/30029431</td>\n",
       "      <td>FPTGP67-2</td>\n",
       "      <td>Borjas de Xena, Leslie Mercedes</td>\n",
       "      <td>rend 2011-007.xlsx</td>\n",
       "      <td>NaN</td>\n",
       "      <td>NaN</td>\n",
       "      <td>NaN</td>\n",
       "      <td>NaN</td>\n",
       "      <td>NaN</td>\n",
       "      <td>NaN</td>\n",
       "      <td>NaN</td>\n",
       "      <td>NaN</td>\n",
       "    </tr>\n",
       "    <tr>\n",
       "      <th>4</th>\n",
       "      <td>CIENCIAS ADMINISTRATIVAS</td>\n",
       "      <td>18818660</td>\n",
       "      <td>1000545.0</td>\n",
       "      <td>FPTMK01</td>\n",
       "      <td>INVESTIGACION DE MERCADO</td>\n",
       "      <td>14</td>\n",
       "      <td>E/30029759</td>\n",
       "      <td>E/30029759</td>\n",
       "      <td>7024860</td>\n",
       "      <td>Landaeta Coll, Manuel Alejandro</td>\n",
       "      <td>rend 2011-007.xlsx</td>\n",
       "      <td>NaN</td>\n",
       "      <td>NaN</td>\n",
       "      <td>NaN</td>\n",
       "      <td>NaN</td>\n",
       "      <td>NaN</td>\n",
       "      <td>NaN</td>\n",
       "      <td>NaN</td>\n",
       "      <td>NaN</td>\n",
       "    </tr>\n",
       "  </tbody>\n",
       "</table>\n",
       "</div>"
      ],
      "text/plain": [
       "           Plan de Estudios      C.I.     codigo asignatura  \\\n",
       "0  CIENCIAS ADMINISTRATIVAS  18818660  1000011.0    BPTBC26   \n",
       "1  CIENCIAS ADMINISTRATIVAS  18818660  1000118.0    BPTFN06   \n",
       "2  CIENCIAS ADMINISTRATIVAS  18818660  1000691.0    FBTIE01   \n",
       "3  CIENCIAS ADMINISTRATIVAS  18818660  1000448.0    FPTIE67   \n",
       "4  CIENCIAS ADMINISTRATIVAS  18818660  1000545.0    FPTMK01   \n",
       "\n",
       "                     nombre Símbolo de notas Sección (Evento)  Unnamed: 7  \\\n",
       "0   PRESUPUESTO EMPRESARIAL               11       E/30030328  E/30030328   \n",
       "1             MICROFINANZAS               18       E/30029863  E/30029863   \n",
       "2   INICIATIVA EMPRENDEDORA               14       E/30029795  E/30029795   \n",
       "3      PROCESOS GERENCIALES               18       E/30029431  E/30029431   \n",
       "4  INVESTIGACION DE MERCADO               14       E/30029759  E/30029759   \n",
       "\n",
       "  Sección (Paq.Eventos)                             Docente  \\\n",
       "0               7025292                Rivas Nieto, Roberto   \n",
       "1               7024970              Quintero Moros, Nelson   \n",
       "2               7024903  Figarella Trujillo, Veronica Elisa   \n",
       "3             FPTGP67-2     Borjas de Xena, Leslie Mercedes   \n",
       "4               7024860     Landaeta Coll, Manuel Alejandro   \n",
       "\n",
       "                 trim  cod nombre asignatura nombre  nom asignatura  \\\n",
       "0  rend 2011-007.xlsx  NaN               NaN     NaN            NaN   \n",
       "1  rend 2011-007.xlsx  NaN               NaN     NaN            NaN   \n",
       "2  rend 2011-007.xlsx  NaN               NaN     NaN            NaN   \n",
       "3  rend 2011-007.xlsx  NaN               NaN     NaN            NaN   \n",
       "4  rend 2011-007.xlsx  NaN               NaN     NaN            NaN   \n",
       "\n",
       "   Unnamed: 2 Módulo Unnamed: 4  cod   \n",
       "0         NaN    NaN        NaN   NaN  \n",
       "1         NaN    NaN        NaN   NaN  \n",
       "2         NaN    NaN        NaN   NaN  \n",
       "3         NaN    NaN        NaN   NaN  \n",
       "4         NaN    NaN        NaN   NaN  "
      ]
     },
     "execution_count": 28,
     "metadata": {},
     "output_type": "execute_result"
    }
   ],
   "source": [
    "df.head()"
   ]
  },
  {
   "cell_type": "code",
   "execution_count": null,
   "metadata": {},
   "outputs": [],
   "source": [
    "df.to_csv('data.csv')"
   ]
  },
  {
   "cell_type": "code",
   "execution_count": 30,
   "metadata": {},
   "outputs": [],
   "source": [
    "df = df[['Plan de Estudios', 'C.I.','asignatura', 'Símbolo de notas', 'trim']]"
   ]
  },
  {
   "cell_type": "code",
   "execution_count": 31,
   "metadata": {},
   "outputs": [
    {
     "name": "stderr",
     "output_type": "stream",
     "text": [
      "C:\\Users\\gilbe\\anaconda3\\lib\\site-packages\\ipykernel_launcher.py:1: SettingWithCopyWarning: \n",
      "A value is trying to be set on a copy of a slice from a DataFrame.\n",
      "Try using .loc[row_indexer,col_indexer] = value instead\n",
      "\n",
      "See the caveats in the documentation: https://pandas.pydata.org/pandas-docs/stable/user_guide/indexing.html#returning-a-view-versus-a-copy\n",
      "  \"\"\"Entry point for launching an IPython kernel.\n",
      "C:\\Users\\gilbe\\anaconda3\\lib\\site-packages\\ipykernel_launcher.py:2: SettingWithCopyWarning: \n",
      "A value is trying to be set on a copy of a slice from a DataFrame.\n",
      "Try using .loc[row_indexer,col_indexer] = value instead\n",
      "\n",
      "See the caveats in the documentation: https://pandas.pydata.org/pandas-docs/stable/user_guide/indexing.html#returning-a-view-versus-a-copy\n",
      "  \n"
     ]
    }
   ],
   "source": [
    "df['trim'] = df['trim'].apply(lambda x: x.replace('rend ', ''))\n",
    "df['trim'] = df['trim'].apply(lambda x: x.replace('.xlsx', ''))"
   ]
  },
  {
   "cell_type": "code",
   "execution_count": 34,
   "metadata": {},
   "outputs": [],
   "source": [
    "df = df.dropna()\n",
    "df['cuali'] = '0'\n",
    "df.loc[df['Símbolo de notas'].str.isnumeric()==False,'cuali'] = df.loc[df['Símbolo de notas'].str.isnumeric()==False,'Símbolo de notas'] \n",
    "df.loc[df['Símbolo de notas'].str.isnumeric()==False,'Símbolo de notas'] = 21"
   ]
  },
  {
   "cell_type": "code",
   "execution_count": 35,
   "metadata": {},
   "outputs": [],
   "source": [
    "df['Símbolo de notas'] = pd.to_numeric(df['Símbolo de notas'])"
   ]
  },
  {
   "cell_type": "code",
   "execution_count": 36,
   "metadata": {},
   "outputs": [],
   "source": [
    "# Se realiza la distinción entre las materias de Servicio Comunitario\n",
    "\n",
    "df.loc[((df['cuali'] == 'CONT') | (df['cuali'] == 'REPR')) & (df['asignatura'] == 'BPTDI01'),'asignatura'] = 'BPTDI01-1'\n",
    "df.loc[((df['cuali'] == 'APRO') | (df['cuali'] == 'REPR')| (df['cuali'] == 'NOT') | (df['cuali'] == 'SOB') | (df['cuali'] == 'SOBR')) & (df['asignatura'] == 'BPTDI01'),'asignatura'] = 'BPTDI01-2'"
   ]
  },
  {
   "cell_type": "code",
   "execution_count": 37,
   "metadata": {},
   "outputs": [],
   "source": [
    "# Se unifican las electivas (FGE y FGS) como un solo código\n",
    "\n",
    "df.loc[(df['asignatura'].str[:3] == 'FGE'), 'asignatura'] = 'FGE0000'\n",
    "df.loc[(df['asignatura'].str[:3] == 'FGS'), 'asignatura'] = 'FGS0000'"
   ]
  },
  {
   "cell_type": "code",
   "execution_count": 38,
   "metadata": {},
   "outputs": [],
   "source": [
    "# Se realizan correcciones a las calificaciones que se encuentran en el conjunto de datos \n",
    "\n",
    "df.loc[(df['Símbolo de notas'] < 10),'cuali'] = 'Failed'\n",
    "df.loc[(df['Símbolo de notas'] >= 10) & (df['Símbolo de notas'] < 15),'cuali'] = 'Good'\n",
    "df.loc[(df['Símbolo de notas'] >= 15) & (df['Símbolo de notas'] <= 20),'cuali'] = 'Excellent'\n",
    "\n",
    "df.loc[(df['cuali'] == 'NOT') | (df['cuali'] == 'SOB') | (df['cuali'] == 'SOBR') | (df['cuali'] == 'APRO') | (df['cuali'] == 'CONT'),'cuali'] = 'Good'\n",
    "\n",
    "df.loc[(df['cuali'] == 'DIFE') | (df['cuali'] == 'REPR'),'cuali'] = 'Failed'"
   ]
  },
  {
   "cell_type": "code",
   "execution_count": 39,
   "metadata": {},
   "outputs": [],
   "source": [
    "# Se forma la columna 'course', la cual corresponde a la concatenación entre el código de la materia y la calificación del estudiante\n",
    "\n",
    "df['course'] = df.apply(lambda x: x.asignatura +\"_\"+ x.cuali, axis=1)"
   ]
  },
  {
   "cell_type": "code",
   "execution_count": 40,
   "metadata": {},
   "outputs": [],
   "source": [
    "df.loc[df['cuali']=='#', 'course'] = df[df['cuali']=='#']['course'].apply(lambda x: x.replace('#', 'Withdraw'))"
   ]
  },
  {
   "cell_type": "code",
   "execution_count": 41,
   "metadata": {},
   "outputs": [],
   "source": [
    "# Se eliminan las filas que contengan las notas 'NREQ', 'EQUI' y 'RECO'\n",
    "\n",
    "df = df.drop(df[df['cuali'] == 'NREQ'].index)\n",
    "df = df.drop(df[df['cuali'] == 'EQUI'].index)\n",
    "df = df.drop(df[df['cuali'] == 'RECO'].index)\n",
    "df = df.drop(df[df['cuali'] == 'HONO'].index)"
   ]
  },
  {
   "cell_type": "code",
   "execution_count": 43,
   "metadata": {},
   "outputs": [
    {
     "name": "stdout",
     "output_type": "stream",
     "text": [
      "Unique course: 1901\n"
     ]
    }
   ],
   "source": [
    "# Se imprimen la cantidad de materias del dataset\n",
    "unique_course = set(df.course.values)\n",
    "print(f'Unique course: {len(unique_course)}')"
   ]
  },
  {
   "cell_type": "code",
   "execution_count": null,
   "metadata": {},
   "outputs": [],
   "source": [
    "from sklearn import preprocessing\n",
    "le = preprocessing.LabelEncoder()\n",
    "courses = df['course'].dropna().unique()\n",
    "le.fit(courses)"
   ]
  },
  {
   "cell_type": "code",
   "execution_count": null,
   "metadata": {},
   "outputs": [],
   "source": [
    "df['course_pre'] = le.transform(df['course'])"
   ]
  },
  {
   "cell_type": "code",
   "execution_count": null,
   "metadata": {},
   "outputs": [],
   "source": [
    "df.head()"
   ]
  },
  {
   "cell_type": "code",
   "execution_count": null,
   "metadata": {},
   "outputs": [],
   "source": [
    "map_trim = {'2011-007':1, '2011-008':2, '2011-009':3, '2012-007':4, '2012-008':5,\n",
    "       '2012-009':6, '2013-007':7, '2013-008':8, '2013-009':9, '2014-007':10,\n",
    "       '2014-008':11, '2014-009':12, '2015-007':13, '2015-008':14, '2015-009':15,\n",
    "       '2016-007':16, '2016-008':17, '2016.009':18, '2017-007':19, '2017-008':20,\n",
    "       '2017-009':21, '2018-007':22, '2018-008':23, '2018-009':24}\n",
    "df['trim'] = df['trim'].map(map_trim)"
   ]
  },
  {
   "cell_type": "code",
   "execution_count": null,
   "metadata": {},
   "outputs": [],
   "source": [
    "df.to_csv('clean_data.csv')"
   ]
  },
  {
   "cell_type": "code",
   "execution_count": null,
   "metadata": {},
   "outputs": [],
   "source": [
    "df = pd.read_csv('clean_data.csv')\n",
    "df"
   ]
  },
  {
   "cell_type": "code",
   "execution_count": null,
   "metadata": {},
   "outputs": [],
   "source": [
    "from sklearn import preprocessing\n",
    "df_all = df\n",
    "le = preprocessing.LabelEncoder()\n",
    "courses = df_all['course'].dropna().unique()\n",
    "le.fit(courses)\n",
    "df_all['course_pre'] = le.transform(df_all['course'])\n",
    "df_all.to_csv('clean_data.csv')"
   ]
  },
  {
   "cell_type": "code",
   "execution_count": null,
   "metadata": {},
   "outputs": [],
   "source": [
    "# Mostrar ejemplo de la data preprocesada para un estudiante\n",
    "\n",
    "pd.set_option('display.max_rows', 100)\n",
    "df[df['C.I.']==27346026]"
   ]
  },
  {
   "cell_type": "code",
   "execution_count": null,
   "metadata": {},
   "outputs": [],
   "source": []
  }
 ],
 "metadata": {
  "kernelspec": {
   "display_name": "Python 3",
   "language": "python",
   "name": "python3"
  },
  "language_info": {
   "codemirror_mode": {
    "name": "ipython",
    "version": 3
   },
   "file_extension": ".py",
   "mimetype": "text/x-python",
   "name": "python",
   "nbconvert_exporter": "python",
   "pygments_lexer": "ipython3",
   "version": "3.7.6"
  }
 },
 "nbformat": 4,
 "nbformat_minor": 4
}
