{
  "nbformat": 4,
  "nbformat_minor": 0,
  "metadata": {
    "colab": {
      "name": "Modelo UNINET.ipynb",
      "provenance": [],
      "collapsed_sections": []
    },
    "kernelspec": {
      "display_name": "Python 3",
      "language": "python",
      "name": "python3"
    },
    "language_info": {
      "codemirror_mode": {
        "name": "ipython",
        "version": 3
      },
      "file_extension": ".py",
      "mimetype": "text/x-python",
      "name": "python",
      "nbconvert_exporter": "python",
      "pygments_lexer": "ipython3",
      "version": "3.7.6"
    },
    "accelerator": "GPU"
  },
  "cells": [
    {
      "cell_type": "markdown",
      "metadata": {
        "id": "N6ZBKSOgItCP"
      },
      "source": [
        "**UNINET : Modelo de Recomendaciones de Asignaturas para Estudiantes**\n",
        "\n",
        "Universidad Metropolitana\n",
        "\n",
        "Proyecto de Investigación de Ingeniería de Sistemas\n",
        "\n",
        "Gilberto Pucciarelli y Vito Tatoli"
      ]
    },
    {
      "cell_type": "markdown",
      "metadata": {
        "id": "gAxqY3DEBs8V"
      },
      "source": [
        "## Imports"
      ]
    },
    {
      "cell_type": "code",
      "metadata": {
        "id": "Ru83XZp7BxkV"
      },
      "source": [
        "from google.colab import drive\n",
        "\n",
        "import pandas as pd\n",
        "import numpy as np\n",
        "import os \n",
        "from sklearn.model_selection import train_test_split\n",
        "\n",
        "from keras.models import Sequential\n",
        "from sklearn.model_selection import train_test_split\n",
        "from keras.layers import Input, Dropout, Dense, Flatten, Activation, LSTM, Bidirectional, Concatenate, Embedding, Reshape, ConvLSTM2D, TimeDistributed, MaxPooling3D, BatchNormalization\n",
        "from keras.models import Model\n",
        "\n",
        "# Métrica de AUC\n",
        "from sklearn.metrics import roc_auc_score\n",
        "\n",
        "from IPython.display import HTML, display\n",
        "import time\n",
        "import json"
      ],
      "execution_count": 1,
      "outputs": []
    },
    {
      "cell_type": "code",
      "metadata": {
        "id": "BYJWbSRfpzua",
        "colab": {
          "base_uri": "https://localhost:8080/"
        },
        "outputId": "7c68ca4b-6c0b-42a5-d601-a789207db131"
      },
      "source": [
        "drive.mount('/content/drive')"
      ],
      "execution_count": 2,
      "outputs": [
        {
          "output_type": "stream",
          "text": [
            "Mounted at /content/drive\n"
          ],
          "name": "stdout"
        }
      ]
    },
    {
      "cell_type": "markdown",
      "metadata": {
        "id": "21QrgZ0-j1JY"
      },
      "source": [
        "## Cargar los Datos "
      ]
    },
    {
      "cell_type": "code",
      "metadata": {
        "colab": {
          "base_uri": "https://localhost:8080/",
          "height": 402
        },
        "id": "8c4sdtPyhLEG",
        "outputId": "7194734f-71cc-46e0-8e00-73888101c4af"
      },
      "source": [
        "# Se cargan los datos del csv preprocesado anteriormente\n",
        "df = pd.read_csv('/content/drive/MyDrive/Archivos/clean_data.csv', encoding='latin-1')\n",
        "\n",
        "# Se eliminan las columnas de datos innecesarias  \n",
        "df = df.drop(['Unnamed: 0', 'Unnamed: 0.1', 'SÃ­mbolo de notas', 'cuali'], axis=1)\n",
        "df"
      ],
      "execution_count": 3,
      "outputs": [
        {
          "output_type": "execute_result",
          "data": {
            "text/html": [
              "<div>\n",
              "<style scoped>\n",
              "    .dataframe tbody tr th:only-of-type {\n",
              "        vertical-align: middle;\n",
              "    }\n",
              "\n",
              "    .dataframe tbody tr th {\n",
              "        vertical-align: top;\n",
              "    }\n",
              "\n",
              "    .dataframe thead th {\n",
              "        text-align: right;\n",
              "    }\n",
              "</style>\n",
              "<table border=\"1\" class=\"dataframe\">\n",
              "  <thead>\n",
              "    <tr style=\"text-align: right;\">\n",
              "      <th></th>\n",
              "      <th>Plan de Estudios</th>\n",
              "      <th>C.I.</th>\n",
              "      <th>asignatura</th>\n",
              "      <th>trim</th>\n",
              "      <th>course</th>\n",
              "      <th>course_pre</th>\n",
              "    </tr>\n",
              "  </thead>\n",
              "  <tbody>\n",
              "    <tr>\n",
              "      <th>0</th>\n",
              "      <td>CIENCIAS ADMINISTRATIVAS</td>\n",
              "      <td>18818660</td>\n",
              "      <td>BPTBC26</td>\n",
              "      <td>1</td>\n",
              "      <td>BPTBC26_Good</td>\n",
              "      <td>107</td>\n",
              "    </tr>\n",
              "    <tr>\n",
              "      <th>1</th>\n",
              "      <td>CIENCIAS ADMINISTRATIVAS</td>\n",
              "      <td>18818660</td>\n",
              "      <td>BPTFN06</td>\n",
              "      <td>1</td>\n",
              "      <td>BPTFN06_Excellent</td>\n",
              "      <td>489</td>\n",
              "    </tr>\n",
              "    <tr>\n",
              "      <th>2</th>\n",
              "      <td>CIENCIAS ADMINISTRATIVAS</td>\n",
              "      <td>18818660</td>\n",
              "      <td>FBTIE01</td>\n",
              "      <td>1</td>\n",
              "      <td>FBTIE01_Good</td>\n",
              "      <td>866</td>\n",
              "    </tr>\n",
              "    <tr>\n",
              "      <th>3</th>\n",
              "      <td>CIENCIAS ADMINISTRATIVAS</td>\n",
              "      <td>18314789</td>\n",
              "      <td>FBTIN04</td>\n",
              "      <td>1</td>\n",
              "      <td>FBTIN04_Good</td>\n",
              "      <td>878</td>\n",
              "    </tr>\n",
              "    <tr>\n",
              "      <th>4</th>\n",
              "      <td>CIENCIAS ADMINISTRATIVAS</td>\n",
              "      <td>18314789</td>\n",
              "      <td>FPTMK01</td>\n",
              "      <td>1</td>\n",
              "      <td>FPTMK01_Good</td>\n",
              "      <td>1727</td>\n",
              "    </tr>\n",
              "    <tr>\n",
              "      <th>...</th>\n",
              "      <td>...</td>\n",
              "      <td>...</td>\n",
              "      <td>...</td>\n",
              "      <td>...</td>\n",
              "      <td>...</td>\n",
              "      <td>...</td>\n",
              "    </tr>\n",
              "    <tr>\n",
              "      <th>425701</th>\n",
              "      <td>PSICOLOGÃA</td>\n",
              "      <td>84611414</td>\n",
              "      <td>FBTHU01</td>\n",
              "      <td>24</td>\n",
              "      <td>FBTHU01_Failed</td>\n",
              "      <td>853</td>\n",
              "    </tr>\n",
              "    <tr>\n",
              "      <th>425702</th>\n",
              "      <td>PSICOLOGÃA</td>\n",
              "      <td>84611414</td>\n",
              "      <td>FBTMM00</td>\n",
              "      <td>24</td>\n",
              "      <td>FBTMM00_Failed</td>\n",
              "      <td>901</td>\n",
              "    </tr>\n",
              "    <tr>\n",
              "      <th>425703</th>\n",
              "      <td>PSICOLOGÃA</td>\n",
              "      <td>84611414</td>\n",
              "      <td>FBTIE02</td>\n",
              "      <td>24</td>\n",
              "      <td>FBTIE02_Good</td>\n",
              "      <td>870</td>\n",
              "    </tr>\n",
              "    <tr>\n",
              "      <th>425704</th>\n",
              "      <td>PSICOLOGÃA</td>\n",
              "      <td>84611414</td>\n",
              "      <td>FBPIN02</td>\n",
              "      <td>24</td>\n",
              "      <td>FBPIN02_Good</td>\n",
              "      <td>796</td>\n",
              "    </tr>\n",
              "    <tr>\n",
              "      <th>425705</th>\n",
              "      <td>PSICOLOGÃA</td>\n",
              "      <td>84611414</td>\n",
              "      <td>FBTCE03</td>\n",
              "      <td>24</td>\n",
              "      <td>FBTCE03_Excellent</td>\n",
              "      <td>833</td>\n",
              "    </tr>\n",
              "  </tbody>\n",
              "</table>\n",
              "<p>425706 rows × 6 columns</p>\n",
              "</div>"
            ],
            "text/plain": [
              "                Plan de Estudios      C.I.  ...             course  course_pre\n",
              "0       CIENCIAS ADMINISTRATIVAS  18818660  ...       BPTBC26_Good         107\n",
              "1       CIENCIAS ADMINISTRATIVAS  18818660  ...  BPTFN06_Excellent         489\n",
              "2       CIENCIAS ADMINISTRATIVAS  18818660  ...       FBTIE01_Good         866\n",
              "3       CIENCIAS ADMINISTRATIVAS  18314789  ...       FBTIN04_Good         878\n",
              "4       CIENCIAS ADMINISTRATIVAS  18314789  ...       FPTMK01_Good        1727\n",
              "...                          ...       ...  ...                ...         ...\n",
              "425701               PSICOLOGÃA  84611414  ...     FBTHU01_Failed         853\n",
              "425702               PSICOLOGÃA  84611414  ...     FBTMM00_Failed         901\n",
              "425703               PSICOLOGÃA  84611414  ...       FBTIE02_Good         870\n",
              "425704               PSICOLOGÃA  84611414  ...       FBPIN02_Good         796\n",
              "425705               PSICOLOGÃA  84611414  ...  FBTCE03_Excellent         833\n",
              "\n",
              "[425706 rows x 6 columns]"
            ]
          },
          "metadata": {
            "tags": []
          },
          "execution_count": 3
        }
      ]
    },
    {
      "cell_type": "markdown",
      "metadata": {
        "id": "rwDrQUpVqcsD"
      },
      "source": [
        "## Diccionarios"
      ]
    },
    {
      "cell_type": "code",
      "metadata": {
        "colab": {
          "base_uri": "https://localhost:8080/"
        },
        "id": "1eYKwy9GqcsF",
        "outputId": "a3f2c640-ab21-4566-9d1e-85a6fc04799d"
      },
      "source": [
        "# Contiene todos los valores de las asignaturas contenidas en los datos utilizadas\n",
        "courses = df.course.values\n",
        "\n",
        "# Se obtienen las posibilidades únicas de las materias junto con su calificación en los datos utilizados \n",
        "unique_courses = set(df.course.values)\n",
        "unique_assigns = set(df.asignatura.values)\n",
        "unique_est = set(df['C.I.'].values)\n",
        "\n",
        "print(f'Unique courses: {len(unique_courses)}')\n",
        "print(f'Unique assigns: {len(unique_assigns)}')\n",
        "print(f'Unique estudents: {len(unique_est)}')"
      ],
      "execution_count": 4,
      "outputs": [
        {
          "output_type": "stream",
          "text": [
            "Unique courses: 1669\n",
            "Unique assigns: 460\n",
            "Unique estudents: 13163\n"
          ],
          "name": "stdout"
        }
      ]
    },
    {
      "cell_type": "code",
      "metadata": {
        "id": "DNUrW_3jqcsI"
      },
      "source": [
        "# Se crean dos diccionarios: \n",
        "# 1. Uno donde las keys representan un número entero y el value es la asignatura junto con su calificación\n",
        "# 2. Otro donde las keys representan un string de la asignatura con su calificación y el value es un número entero lo identifica\n",
        "\n",
        "with open('/content/drive/MyDrive/Archivos/vocab_to_int.json') as f:\n",
        "    vocab_to_int = json.load(f)\n",
        "\n",
        "with open('/content/drive/MyDrive/Archivos/int_to_vocab.json') as f:\n",
        "    int_to_vocab = json.load(f)\n",
        "\n",
        "all_assigns = set(line.strip() for line in open('/content/drive/MyDrive/Archivos/only_assigns.txt'))"
      ],
      "execution_count": 5,
      "outputs": []
    },
    {
      "cell_type": "markdown",
      "metadata": {
        "id": "sbFg25tvj_pE"
      },
      "source": [
        "## Agrupar estudiantes y ordenar por trimestres"
      ]
    },
    {
      "cell_type": "code",
      "metadata": {
        "id": "yQAnHHXXYCgc"
      },
      "source": [
        "# Se agrupan por los estudiantes junto con los trimestres que cursó \n",
        "grouped = df.sort_values('trim').groupby(['C.I.'])"
      ],
      "execution_count": 6,
      "outputs": []
    },
    {
      "cell_type": "code",
      "metadata": {
        "id": "IFOne3hBOWD9"
      },
      "source": [
        "# Se obtiene un identificador para c/u de los estudiantes (su cédula)\n",
        "ids = grouped['C.I.'].unique().values\n",
        "\n",
        "# Se dividen los datos en dos conjuntos (train y test) en base al identificador anterior \n",
        "train_ids, test_ids = train_test_split(ids, test_size=0.05)\n",
        "\n",
        "train = pd.DataFrame()\n",
        "test = pd.DataFrame()\n",
        "num=0\n",
        "\n",
        "# Se construyen el DataFrame train y test en base a lo establecido anteriomente \n",
        "for iid in train_ids:\n",
        "    train = train.append(df.loc[df['C.I.'] == iid[0]])\n",
        "\n",
        "for iid in test_ids:\n",
        "    test = test.append(df.loc[df['C.I.'] == iid[0]])"
      ],
      "execution_count": 7,
      "outputs": []
    },
    {
      "cell_type": "code",
      "metadata": {
        "id": "TcP4ZGHjOYIs"
      },
      "source": [
        "# Se agrupan los conjuntos de estudiantes con c/u de sus trimestres en base al conjunto de train y test \n",
        "grouped = train.sort_values('trim').groupby(['C.I.'])\n",
        "grouped_test = test.sort_values('trim').groupby(['C.I.']) "
      ],
      "execution_count": 8,
      "outputs": []
    },
    {
      "cell_type": "markdown",
      "metadata": {
        "id": "ret2k_j3bWFw"
      },
      "source": [
        "## Separando el data set\n",
        "\n",
        "Se separa el dataset en train, dev y test. Luego, se crean las variables X, Y y O con las que se van a entrenar al modelo."
      ]
    },
    {
      "cell_type": "markdown",
      "metadata": {
        "id": "pzDgPrlEJUWa"
      },
      "source": [
        "**Auxiliar para mostrar el avance**"
      ]
    },
    {
      "cell_type": "code",
      "metadata": {
        "id": "42LBJcSXJTyV"
      },
      "source": [
        "# Función que permite mostrar el progreso de ejecución de los datos \n",
        "\n",
        "def progress(value, max=100):\n",
        "    return HTML(\"\"\"\n",
        "        <progress\n",
        "            value='{value}'\n",
        "            max='{max}',\n",
        "            style='width: 100%'\n",
        "        >\n",
        "            {value}\n",
        "        </progress>\n",
        "    \"\"\".format(value=value, max=max))"
      ],
      "execution_count": 9,
      "outputs": []
    },
    {
      "cell_type": "markdown",
      "metadata": {
        "id": "IGMlCTazNNfC"
      },
      "source": [
        "**Obtención del conjunto de entrenamiento**\n",
        "\n",
        "*   Se obtienen dos conjuntos: X (historial del estudiante), y Y (materias a inscribir por el estudiante)"
      ]
    },
    {
      "cell_type": "code",
      "metadata": {
        "colab": {
          "base_uri": "https://localhost:8080/",
          "height": 50
        },
        "id": "DR9w5D5zqcsQ",
        "outputId": "faa9a7fb-cbac-4077-f8fc-412a62599e13"
      },
      "source": [
        "array_data = [] # Contiene el historial de trimestre de los estudiantes | dims: (estudiante, trimestre, materia)\n",
        "array_trim = [] # Contiene cada uno de los trimestres vistos por todos los estudiantes en los datos utilizados | dims: (trimestre, materia)\n",
        "\n",
        "# Se establece el número máximo de trimestres, con la finalidad de formar una matriz cuadrada de los datos \n",
        "max_number_trims = 24\n",
        "\n",
        "# Se establece el número máximo de asignaturas que se pueden ver en un trimestre, con la finalidad de formar una matriz cuadrada de los datos \n",
        "max_number_assigns = 7\n",
        "\n",
        "# Variables para el loader\n",
        "out_estudiante = display(progress(0, len(grouped)), display_id=True)\n",
        "i_estudiante = 0\n",
        "out_trim = display(progress(0, len(grouped)), display_id=True)\n",
        "\n",
        "# Se itera por cada uno de los estudiantes junto con los trimestres que cursó \n",
        "for est, est_group in grouped:\n",
        "    cant_trim = est_group['trim'].unique()\n",
        "\n",
        "    row_trim = []    \n",
        "    \n",
        "    # Variables para el loader\n",
        "    i_estudiante += 1 \n",
        "    out_estudiante.update(progress(i_estudiante, len(grouped))) \n",
        "    count = 0\n",
        "\n",
        "    if len(cant_trim) != 1:     \n",
        "        # Se itera por cada uno de los trimestres para obtener las materias que vió en cada uno de ellos \n",
        "        for trim in cant_trim:\n",
        "            temp = df[(df['C.I.'] == est) & (df['trim'] == trim)]\n",
        "            temp = temp[:7]\n",
        "            row = []\n",
        "\n",
        "            # Variables para el loader\n",
        "            count += 1\n",
        "            out_trim.update(progress(count, len(cant_trim)))\n",
        "\n",
        "            # Se guardan las materias que curso en el trimestre\n",
        "            for assign in temp['course'].unique():\n",
        "                row.append(assign)\n",
        "            \n",
        "            # Como es una matriz cuadrada, se llenan las posiciones restantes con un número que \n",
        "            # representa un \"espacio vacío\" \n",
        "            for i in range(max_number_assigns - len(row)):\n",
        "                row.append(len(vocab_to_int))\n",
        "            \n",
        "            # Se almacen los datos anteriores\n",
        "            row_trim.append(row)\n",
        "            array_trim.append(row)\n",
        "\n",
        "        array_data.append(row_trim)"
      ],
      "execution_count": 10,
      "outputs": [
        {
          "output_type": "display_data",
          "data": {
            "text/html": [
              "\n",
              "        <progress\n",
              "            value='12504'\n",
              "            max='12504',\n",
              "            style='width: 100%'\n",
              "        >\n",
              "            12504\n",
              "        </progress>\n",
              "    "
            ],
            "text/plain": [
              "<IPython.core.display.HTML object>"
            ]
          },
          "metadata": {
            "tags": []
          }
        },
        {
          "output_type": "display_data",
          "data": {
            "text/html": [
              "\n",
              "        <progress\n",
              "            value='2'\n",
              "            max='2',\n",
              "            style='width: 100%'\n",
              "        >\n",
              "            2\n",
              "        </progress>\n",
              "    "
            ],
            "text/plain": [
              "<IPython.core.display.HTML object>"
            ]
          },
          "metadata": {
            "tags": []
          }
        }
      ]
    },
    {
      "cell_type": "code",
      "metadata": {
        "colab": {
          "base_uri": "https://localhost:8080/",
          "height": 34
        },
        "id": "43nLOZTBhYLY",
        "outputId": "8f73572d-1be8-4ed6-9105-9b4dde689aed"
      },
      "source": [
        "array_hist = [] # Contiene el histórico de los estudiantes sometidos a data augmentation\n",
        "array_target = [] # Contiene las materias que el estudiante verá en su trimestre objetivo (próximo trimestre)\n",
        "\n",
        "aux_array = [0] * max_number_assigns\n",
        "\n",
        "sigm_target = []\n",
        "\n",
        "# Variables para el loader\n",
        "out_estudiante = display(progress(0, len(array_data)), display_id=True)\n",
        "i_estudiante = 0\n",
        "\n",
        "for est in range(len(array_data)):\n",
        "    \n",
        "    # Variables para el loader\n",
        "    i_estudiante += 1 \n",
        "    out_estudiante.update(progress(i_estudiante, len(array_data))) \n",
        "    count = 0\n",
        "\n",
        "    # Auxiliar para ayudar a armar los arrays\n",
        "    other_array = []\n",
        "    for i in range(max_number_trims):\n",
        "        other_array.append([len(vocab_to_int)] * max_number_assigns)\n",
        "    \n",
        "    # Validar que el estudiante tenga mas de un (1) trimestre visto \n",
        "    if len(array_data[est]) == 1: \n",
        "            continue\n",
        "    else: \n",
        "        for trim in range(len(array_data[est])): \n",
        "            count = 0\n",
        "            if trim != len(array_data[est]) - 1:\n",
        "\n",
        "                other_array.pop(trim)\n",
        "                other_array.insert(trim, array_data[est][trim].copy())\n",
        "            \n",
        "                array_hist.append(other_array.copy())\n",
        "\n",
        "                array_target.append(array_data[est][trim + 1].copy())"
      ],
      "execution_count": 11,
      "outputs": [
        {
          "output_type": "display_data",
          "data": {
            "text/html": [
              "\n",
              "        <progress\n",
              "            value='11378'\n",
              "            max='11378',\n",
              "            style='width: 100%'\n",
              "        >\n",
              "            11378\n",
              "        </progress>\n",
              "    "
            ],
            "text/plain": [
              "<IPython.core.display.HTML object>"
            ]
          },
          "metadata": {
            "tags": []
          }
        }
      ]
    },
    {
      "cell_type": "code",
      "metadata": {
        "colab": {
          "base_uri": "https://localhost:8080/",
          "height": 34
        },
        "id": "q3e86En4U2XG",
        "outputId": "7989d13f-03df-48c1-aec6-adc5464adc58"
      },
      "source": [
        "array_target_output = []\n",
        "\n",
        "all_assigns = sorted(all_assigns)\n",
        "\n",
        "# Variables para el loader\n",
        "out_estudiante = display(progress(0, len(array_target)), display_id=True)\n",
        "i_estudiante = 0\n",
        "\n",
        "for est in range(len(array_target)):\n",
        "    \n",
        "    # Variables para el loader\n",
        "    i_estudiante += 1 \n",
        "    out_estudiante.update(progress(i_estudiante, len(array_target))) \n",
        "    count = 0\n",
        "\n",
        "    only_assigns = {}\n",
        "    for assign_zero in all_assigns:\n",
        "        only_assigns[assign_zero] = 0\n",
        "    \n",
        "    for assign in range(len(array_target[est])):\n",
        "        if array_target[est][assign] != len(vocab_to_int):\n",
        "            only_assigns[array_target[est][assign].split('_')[0]] = 1\n",
        "\n",
        "    array_target_output.append(np.array(tuple(only_assigns.values())))"
      ],
      "execution_count": 12,
      "outputs": [
        {
          "output_type": "display_data",
          "data": {
            "text/html": [
              "\n",
              "        <progress\n",
              "            value='83381'\n",
              "            max='83381',\n",
              "            style='width: 100%'\n",
              "        >\n",
              "            83381\n",
              "        </progress>\n",
              "    "
            ],
            "text/plain": [
              "<IPython.core.display.HTML object>"
            ]
          },
          "metadata": {
            "tags": []
          }
        }
      ]
    },
    {
      "cell_type": "markdown",
      "metadata": {
        "id": "k37PXgU-ljT1"
      },
      "source": [
        "**Estableciendo el target para cada entrada**\n",
        "\n",
        "Se crea un array de targets, en el que para cada row del array de trimestres objetivo (target): \n",
        "\n",
        "*   Se asigna 1 si se obtuvo una calificación buena (mayor o igual a 13) en todas las materias. \n",
        "*   Se asigna 0 si reprobó/retiró u obtuvo una nota menor a 13 en alguna materia."
      ]
    },
    {
      "cell_type": "code",
      "metadata": {
        "id": "qtTIRfo2qcsW"
      },
      "source": [
        "# Se construye una matriz, de una sola columna, para cada uno de los estudiantes\n",
        "sigm_target = np.zeros((len(array_target), 1), dtype=int)\n",
        "\n",
        "# Si el estudiante no retiró o reprobó alguna de las materias en el trimestre, se cambia el valor de la columna a 1 \n",
        "# Que indica que el estudiante obtuvo una calificació buena o mayor en todas las materias que cursó \n",
        "for i in range(len(array_target)):\n",
        "    count = 0\n",
        "    for j in range(len(array_target[i])):\n",
        "        if array_target[i][j] != len(vocab_to_int) and (array_target[i][j].split('_')[1] == 'Withdraw' or array_target[i][j].split('_')[1] == 'Failed'): \n",
        "            count += 1\n",
        "\n",
        "    if count == 0:\n",
        "        sigm_target[i] = 1 "
      ],
      "execution_count": 13,
      "outputs": []
    },
    {
      "cell_type": "markdown",
      "metadata": {
        "id": "vsWSFqdTqcsX"
      },
      "source": [
        "\n",
        "**Convertir las materias en los índices de la Embedding Matrix**"
      ]
    },
    {
      "cell_type": "code",
      "metadata": {
        "id": "mgbGA8lAqcsY"
      },
      "source": [
        "# Se convierte cada uno de los strings de materias en los índices, utilizando los diccionarios definidos anteriormente \n",
        "for i in range(len(array_hist)):\n",
        "    for j in range(len(array_hist[i])):\n",
        "        for k in range(len(array_hist[i][j])):\n",
        "            if array_hist[i][j][k] != len(vocab_to_int) and str(array_hist[i][j][k]) not in int_to_vocab:\n",
        "                array_hist[i][j][k] = vocab_to_int[array_hist[i][j][k]]"
      ],
      "execution_count": 14,
      "outputs": []
    },
    {
      "cell_type": "code",
      "metadata": {
        "id": "5N0fz3jnqcsY"
      },
      "source": [
        "# Los arrays son del tipo 'list', se convierten a arrays númericos \n",
        "for i in range(len(array_hist)):\n",
        "    for j in range(len(array_hist[i])):\n",
        "        array_hist[i][j] = np.asarray(array_hist[i][j])\n",
        "    array_hist[i] = np.asarray(array_hist[i])\n",
        "    \n",
        "for i in range(len(array_target_output)):\n",
        "    array_target_output[i] = np.asarray(array_target_output[i])\n",
        "    \n",
        "array_hist = np.asarray(array_hist)\n",
        "array_target_output = np.asarray(array_target_output)\n",
        "sigm_target = np.asarray(sigm_target)"
      ],
      "execution_count": 15,
      "outputs": []
    },
    {
      "cell_type": "markdown",
      "metadata": {
        "id": "81IVQOWjh3T7"
      },
      "source": [
        "**Separando el conjunto de datos de entrenamiento en los conjuntos de train y dev** \n",
        "\n",
        "(para el entrenamiento y validación del modelo)"
      ]
    },
    {
      "cell_type": "code",
      "metadata": {
        "colab": {
          "base_uri": "https://localhost:8080/"
        },
        "id": "1yGx-Y7Raopp",
        "outputId": "191e392f-b925-4a9a-b768-667867b7f3d9"
      },
      "source": [
        "# Se separa el dataset en la proporción 80-20-20 para train, dev y test respectivamente\n",
        "X_train, X_dev, Y_train, Y_dev, O_train, O_dev = train_test_split(array_hist, array_target_output, sigm_target, test_size=0.25)  # Sería el equivalente al 20% de toda la data\n",
        "print(X_train.shape)\n",
        "print(Y_train.shape)\n",
        "print(O_train.shape)\n",
        "\n",
        "print(X_dev.shape)\n",
        "print(Y_dev.shape)\n",
        "print(O_dev.shape)"
      ],
      "execution_count": 16,
      "outputs": [
        {
          "output_type": "stream",
          "text": [
            "(62535, 24, 7)\n",
            "(62535, 466)\n",
            "(62535, 1)\n",
            "(20846, 24, 7)\n",
            "(20846, 466)\n",
            "(20846, 1)\n"
          ],
          "name": "stdout"
        }
      ]
    },
    {
      "cell_type": "markdown",
      "metadata": {
        "id": "oe72KxEXqcsb"
      },
      "source": [
        "**Se carga la Embedding Matrix**"
      ]
    },
    {
      "cell_type": "code",
      "metadata": {
        "colab": {
          "base_uri": "https://localhost:8080/"
        },
        "id": "uzUrjN8Oqcsb",
        "outputId": "f2fa3609-70e7-4de1-9072-a7106585e69e"
      },
      "source": [
        "# Se cargan los datos de la embedding matrix, obtenida en el word2vec \n",
        "embedding_matrix = np.genfromtxt('/content/drive/MyDrive/Archivos/embedding.csv', delimiter=',')\n",
        "embedding_matrix.shape"
      ],
      "execution_count": 17,
      "outputs": [
        {
          "output_type": "execute_result",
          "data": {
            "text/plain": [
              "(1903, 30)"
            ]
          },
          "metadata": {
            "tags": []
          },
          "execution_count": 17
        }
      ]
    },
    {
      "cell_type": "markdown",
      "metadata": {
        "id": "O4sYsRFFqcsc"
      },
      "source": [
        "**Se inserta una fila (todos valores 0) que representa los \"espacios vacíos\" de materias**"
      ]
    },
    {
      "cell_type": "code",
      "metadata": {
        "id": "Vfj5NykZqcsc"
      },
      "source": [
        "# Se crea una row o fila de puros ceros (0), que representa los 'espacios vacíos' definidos anteriormente \n",
        "all_zeros = np.zeros((30, ), dtype=int)\n",
        "\n",
        "embedding_matrix = np.vstack((embedding_matrix, all_zeros))"
      ],
      "execution_count": 18,
      "outputs": []
    },
    {
      "cell_type": "markdown",
      "metadata": {
        "id": "p-lDWakzmHgI"
      },
      "source": [
        "## Definición del modelo\n",
        "\n",
        "Se construye un modelo que recibe dos entradas, un array del histórico del estudiante (X) y otro del trimestre objetivo o target (Y), y un output tipo sigmoide que indica 1 si el estudiante pasará todas las materias, y 0 en caso contrario (O)."
      ]
    },
    {
      "cell_type": "code",
      "metadata": {
        "id": "3FNjemTQjqPs"
      },
      "source": [
        "def model():\n",
        "    \n",
        "    # Se definen dos inputs #\n",
        "    main_input = Input(shape=(max_number_trims, max_number_assigns, ), name='main_input')\n",
        "    second_input = Input(shape=(len(all_assigns), ), name='second_input')\n",
        "\n",
        "    # Se define la Embedding Layer con los valores que se obtuvieron del word2vec\n",
        "    X = Embedding(embedding_matrix.shape[0], embedding_matrix.shape[1], weights=[embedding_matrix], trainable=False)(main_input)\n",
        "    X = Reshape((max_number_trims, max_number_assigns, embedding_matrix.shape[1], 1))(X) \n",
        " \n",
        "    # Primera rama de la Red utiliza el primer input (main input) # \n",
        "    X = ConvLSTM2D(filters=10, kernel_size=(4, 5), strides=2, padding='valid', dropout=0.3, recurrent_dropout=0.1, return_sequences=True)(X)\n",
        "    X = MaxPooling3D(pool_size=(2, 2, 2), padding='valid', strides=1)(X)\n",
        "\n",
        "    X = TimeDistributed(Flatten())(X)\n",
        "    X = LSTM(32, dropout=0.3, recurrent_dropout=0.1, return_sequences=False)(X)\n",
        "    X = Dense(32, activation='relu')(X)\n",
        "    X = Dropout(0.3)(X)\n",
        "    X = Dense(32, activation='relu')(X)\n",
        "    X = Dropout(0.2)(X)\n",
        "    X = Dense(32, activation='relu')(X)\n",
        "    X = Dropout(0.3)(X)\n",
        "    X = Dense(32, activation='relu')(X)\n",
        "\n",
        "    # Segunda rama de la Red utiliza el segundo input (second input) #\n",
        "    Y = Dense(32, activation='relu')(second_input)\n",
        "\n",
        "    # Se combinan los outputs de las dos ramas #\n",
        "    combined = Concatenate()([X, Y])\n",
        "    main_output = Dense(1, activation='sigmoid', name='main_output')(combined)\n",
        "\n",
        "    model = Model(inputs=[main_input, second_input], outputs=[main_output])\n",
        "\n",
        "    # Compile the model # \n",
        "    model.compile(\n",
        "        optimizer = 'adam', \n",
        "        loss = 'binary_crossentropy', \n",
        "        metrics = ['binary_accuracy']\n",
        "    )\n",
        "    \n",
        "    history = model.fit([X_train, Y_train],  O_train, \n",
        "                        batch_size = 32, epochs = 5,\n",
        "                        validation_data = ([X_dev, Y_dev], O_dev))\n",
        "    \n",
        "    print(model.summary())\n",
        "    \n",
        "    return (model, history)"
      ],
      "execution_count": 45,
      "outputs": []
    },
    {
      "cell_type": "code",
      "metadata": {
        "colab": {
          "base_uri": "https://localhost:8080/"
        },
        "id": "IA8PZqWosYp5",
        "outputId": "7fa1f8c8-b634-4078-b35a-eb9e55c0b9f3"
      },
      "source": [
        "model, history = model()"
      ],
      "execution_count": 46,
      "outputs": [
        {
          "output_type": "stream",
          "text": [
            "WARNING:tensorflow:Layer lstm_6 will not use cuDNN kernels since it doesn't meet the criteria. It will use a generic GPU kernel as fallback when running on GPU.\n",
            "Epoch 1/5\n",
            "1955/1955 [==============================] - 477s 240ms/step - loss: 0.6031 - binary_accuracy: 0.6631 - val_loss: 0.5478 - val_binary_accuracy: 0.7163\n",
            "Epoch 2/5\n",
            "1955/1955 [==============================] - 475s 243ms/step - loss: 0.5420 - binary_accuracy: 0.7189 - val_loss: 0.5339 - val_binary_accuracy: 0.7267\n",
            "Epoch 3/5\n",
            "1955/1955 [==============================] - 467s 239ms/step - loss: 0.5325 - binary_accuracy: 0.7269 - val_loss: 0.5313 - val_binary_accuracy: 0.7285\n",
            "Epoch 4/5\n",
            "1955/1955 [==============================] - 464s 237ms/step - loss: 0.5277 - binary_accuracy: 0.7298 - val_loss: 0.5266 - val_binary_accuracy: 0.7315\n",
            "Epoch 5/5\n",
            "1955/1955 [==============================] - 460s 236ms/step - loss: 0.5204 - binary_accuracy: 0.7349 - val_loss: 0.5316 - val_binary_accuracy: 0.7278\n",
            "Model: \"model_6\"\n",
            "__________________________________________________________________________________________________\n",
            "Layer (type)                    Output Shape         Param #     Connected to                     \n",
            "==================================================================================================\n",
            "main_input (InputLayer)         [(None, 24, 7)]      0                                            \n",
            "__________________________________________________________________________________________________\n",
            "embedding_6 (Embedding)         (None, 24, 7, 30)    57120       main_input[0][0]                 \n",
            "__________________________________________________________________________________________________\n",
            "reshape_6 (Reshape)             (None, 24, 7, 30, 1) 0           embedding_6[0][0]                \n",
            "__________________________________________________________________________________________________\n",
            "conv_lst_m2d_6 (ConvLSTM2D)     (None, 24, 2, 13, 10 8840        reshape_6[0][0]                  \n",
            "__________________________________________________________________________________________________\n",
            "max_pooling3d_6 (MaxPooling3D)  (None, 23, 1, 12, 10 0           conv_lst_m2d_6[0][0]             \n",
            "__________________________________________________________________________________________________\n",
            "time_distributed_6 (TimeDistrib (None, 23, 120)      0           max_pooling3d_6[0][0]            \n",
            "__________________________________________________________________________________________________\n",
            "lstm_6 (LSTM)                   (None, 32)           19584       time_distributed_6[0][0]         \n",
            "__________________________________________________________________________________________________\n",
            "dense_30 (Dense)                (None, 32)           1056        lstm_6[0][0]                     \n",
            "__________________________________________________________________________________________________\n",
            "dropout_13 (Dropout)            (None, 32)           0           dense_30[0][0]                   \n",
            "__________________________________________________________________________________________________\n",
            "dense_31 (Dense)                (None, 32)           1056        dropout_13[0][0]                 \n",
            "__________________________________________________________________________________________________\n",
            "dropout_14 (Dropout)            (None, 32)           0           dense_31[0][0]                   \n",
            "__________________________________________________________________________________________________\n",
            "dense_32 (Dense)                (None, 32)           1056        dropout_14[0][0]                 \n",
            "__________________________________________________________________________________________________\n",
            "dropout_15 (Dropout)            (None, 32)           0           dense_32[0][0]                   \n",
            "__________________________________________________________________________________________________\n",
            "second_input (InputLayer)       [(None, 466)]        0                                            \n",
            "__________________________________________________________________________________________________\n",
            "dense_33 (Dense)                (None, 32)           1056        dropout_15[0][0]                 \n",
            "__________________________________________________________________________________________________\n",
            "dense_34 (Dense)                (None, 32)           14944       second_input[0][0]               \n",
            "__________________________________________________________________________________________________\n",
            "concatenate_6 (Concatenate)     (None, 64)           0           dense_33[0][0]                   \n",
            "                                                                 dense_34[0][0]                   \n",
            "__________________________________________________________________________________________________\n",
            "main_output (Dense)             (None, 1)            65          concatenate_6[0][0]              \n",
            "==================================================================================================\n",
            "Total params: 104,777\n",
            "Trainable params: 47,657\n",
            "Non-trainable params: 57,120\n",
            "__________________________________________________________________________________________________\n",
            "None\n"
          ],
          "name": "stdout"
        }
      ]
    },
    {
      "cell_type": "markdown",
      "metadata": {
        "id": "RehgrFUTK8ss"
      },
      "source": [
        "## Graficar modelo"
      ]
    },
    {
      "cell_type": "code",
      "metadata": {
        "id": "p4_Kl7JxLAid"
      },
      "source": [
        "import matplotlib.pyplot as plt\n",
        "\n",
        "def graf_model(train_history):\n",
        "    f = plt.figure(figsize=(15,10))\n",
        "    ax = f.add_subplot(121)\n",
        "    ax2 = f.add_subplot(122)\n",
        "    \n",
        "    # Summarize history for accuracy\n",
        "    ax.plot(train_history.history['binary_accuracy'])\n",
        "    ax.plot(train_history.history['val_binary_accuracy'])\n",
        "    ax.set_title('model accuracy')\n",
        "    ax.set_ylabel('accuracy')\n",
        "    ax.set_xlabel('epoch')\n",
        "    ax.legend(['train', 'test'], loc='upper left')\n",
        "    \n",
        "    # Summarize history for loss\n",
        "    ax2.plot(train_history.history['loss'])\n",
        "    ax2.plot(train_history.history['val_loss'])\n",
        "    ax2.set_title('model loss')\n",
        "    ax2.set_ylabel('loss')\n",
        "    ax2.set_xlabel('epoch')\n",
        "    ax2.legend(['train', 'test'], loc='upper left')\n",
        "    \n",
        "    plt.show()"
      ],
      "execution_count": 47,
      "outputs": []
    },
    {
      "cell_type": "code",
      "metadata": {
        "id": "Z-r2BZcvsUt5",
        "colab": {
          "base_uri": "https://localhost:8080/",
          "height": 621
        },
        "outputId": "3c9fb9c8-bdda-48c1-b0a3-50051ef4c3c1"
      },
      "source": [
        "# Se grafica la precisión y loss del modelo empleado \n",
        "graf_model(history) "
      ],
      "execution_count": 48,
      "outputs": [
        {
          "output_type": "display_data",
          "data": {
            "image/png": "[encoded data removed]",
            "text/plain": [
              "<Figure size 1080x720 with 2 Axes>"
            ]
          },
          "metadata": {
            "tags": [],
            "needs_background": "light"
          }
        }
      ]
    },
    {
      "cell_type": "code",
      "metadata": {
        "id": "BDNnGgNC2GSY"
      },
      "source": [
        "# Save to file in the current working directory\n",
        "model.save('model_final.h5')"
      ],
      "execution_count": 65,
      "outputs": []
    },
    {
      "cell_type": "markdown",
      "metadata": {
        "id": "PBpSP_Acp2LU"
      },
      "source": [
        "## Test del modelo"
      ]
    },
    {
      "cell_type": "code",
      "metadata": {
        "id": "lApqu39yqcsh",
        "colab": {
          "base_uri": "https://localhost:8080/",
          "height": 50
        },
        "outputId": "cdb303d0-41f3-4ad1-8dfa-3f1cebabba14"
      },
      "source": [
        "array_data = [] # Contiene el historial de trimestre de los estudiantes | dims: (estudiante, trimestre, materia)\n",
        "array_trim = [] # Contiene cada uno de los trimestres vistos por todos los estudiantes en los datos utilizados | dims: (trimestre, materia)\n",
        "\n",
        "# Se establece el número máximo de trimestres, con la finalidad de formar una matriz cuadrada de los datos \n",
        "max_number_trims = 24\n",
        "\n",
        "# Se establece el número máximo de asignaturas que se pueden ver en un trimestre, con la finalidad de formar una matriz cuadrada de los datos \n",
        "max_number_assigns = 7\n",
        "\n",
        "# Variables para el loader\n",
        "out_estudiante = display(progress(0, len(grouped_test)), display_id=True)\n",
        "i_estudiante = 0\n",
        "out_trim = display(progress(0, len(grouped_test)), display_id=True)\n",
        "\n",
        "# Se itera por cada uno de los estudiantes junto con los trimestres que cursó \n",
        "for est, est_group in grouped_test:\n",
        "    cant_trim = est_group['trim'].unique()\n",
        "\n",
        "    row_trim = []    \n",
        "    \n",
        "    # Variables para el loader\n",
        "    i_estudiante += 1 \n",
        "    out_estudiante.update(progress(i_estudiante, len(grouped_test))) \n",
        "    count = 0\n",
        "\n",
        "    if len(cant_trim) != 1:     \n",
        "        # Se itera por cada uno de los trimestres para obtener las materias que vió en cada uno de ellos \n",
        "        for trim in cant_trim:\n",
        "            temp = df[(df['C.I.'] == est) & (df['trim'] == trim)]\n",
        "            temp = temp[:7]\n",
        "            row = []\n",
        "\n",
        "            # Variables para el loader\n",
        "            count += 1\n",
        "            out_trim.update(progress(count, len(cant_trim)))\n",
        "\n",
        "            # Se guardan las materias que curso en el trimestre\n",
        "            for assign in temp['course'].unique():\n",
        "                row.append(assign)\n",
        "\n",
        "            # Como es una matriz cuadrada, se llenan las posiciones restantes con un número que \n",
        "            # representa un \"espacio vacío\" \n",
        "            for i in range(max_number_assigns - len(row)):\n",
        "                row.append(len(vocab_to_int))\n",
        "            \n",
        "            # Se almacen los datos anteriores\n",
        "            row_trim.append(row)\n",
        "            array_trim.append(row)\n",
        "\n",
        "        array_data.append(row_trim)"
      ],
      "execution_count": 71,
      "outputs": [
        {
          "output_type": "display_data",
          "data": {
            "text/html": [
              "\n",
              "        <progress\n",
              "            value='659'\n",
              "            max='659',\n",
              "            style='width: 100%'\n",
              "        >\n",
              "            659\n",
              "        </progress>\n",
              "    "
            ],
            "text/plain": [
              "<IPython.core.display.HTML object>"
            ]
          },
          "metadata": {
            "tags": []
          }
        },
        {
          "output_type": "display_data",
          "data": {
            "text/html": [
              "\n",
              "        <progress\n",
              "            value='9'\n",
              "            max='9',\n",
              "            style='width: 100%'\n",
              "        >\n",
              "            9\n",
              "        </progress>\n",
              "    "
            ],
            "text/plain": [
              "<IPython.core.display.HTML object>"
            ]
          },
          "metadata": {
            "tags": []
          }
        }
      ]
    },
    {
      "cell_type": "code",
      "metadata": {
        "id": "JQKqxVNPqcsh",
        "colab": {
          "base_uri": "https://localhost:8080/",
          "height": 34
        },
        "outputId": "19077c64-0c45-4865-dbbc-7727cf850cb6"
      },
      "source": [
        "array_target_output = []\n",
        "\n",
        "all_assigns = sorted(all_assigns)\n",
        "\n",
        "# Variables para el loader\n",
        "out_estudiante = display(progress(0, len(array_data)), display_id=True)\n",
        "i_estudiante = 0\n",
        "\n",
        "for est in range(len(array_data)):\n",
        "    \n",
        "    # Variables para el loader\n",
        "    i_estudiante += 1 \n",
        "    out_estudiante.update(progress(i_estudiante, len(array_data))) \n",
        "    count = 0\n",
        "\n",
        "    only_assigns = {}\n",
        "    for assign_zero in all_assigns:\n",
        "        only_assigns[assign_zero] = 0\n",
        "    \n",
        "    for assign in range(len(array_data[est][-1])):\n",
        "        if array_data[est][-1][assign] != len(vocab_to_int):\n",
        "            only_assigns[array_data[est][-1][assign].split('_')[0]] = 1\n",
        "\n",
        "    array_target_output.append(np.array(tuple(only_assigns.values())))"
      ],
      "execution_count": 72,
      "outputs": [
        {
          "output_type": "display_data",
          "data": {
            "text/html": [
              "\n",
              "        <progress\n",
              "            value='613'\n",
              "            max='613',\n",
              "            style='width: 100%'\n",
              "        >\n",
              "            613\n",
              "        </progress>\n",
              "    "
            ],
            "text/plain": [
              "<IPython.core.display.HTML object>"
            ]
          },
          "metadata": {
            "tags": []
          }
        }
      ]
    },
    {
      "cell_type": "code",
      "metadata": {
        "id": "7u7lfXKAqcsi",
        "colab": {
          "base_uri": "https://localhost:8080/",
          "height": 34
        },
        "outputId": "2d9cf254-65ec-45a9-bda3-032a3df3b8d3"
      },
      "source": [
        "array_target = [] # Contiene las materias que el estudiante verá en su trimestre objetivo (próximo trimestre)\n",
        "\n",
        "# Variables para el loader\n",
        "out_estudiante = display(progress(0, len(array_data)), display_id=True)\n",
        "i_estudiante = 0\n",
        "\n",
        "for est in range(len(array_data)):\n",
        "    \n",
        "    # Variables para el loader\n",
        "    i_estudiante += 1 \n",
        "    out_estudiante.update(progress(i_estudiante, len(array_data))) \n",
        "    count = 0\n",
        "\n",
        "    array_target.append(array_data[est][-1].copy())\n",
        "    array_data[est].pop()"
      ],
      "execution_count": 75,
      "outputs": [
        {
          "output_type": "display_data",
          "data": {
            "text/html": [
              "\n",
              "        <progress\n",
              "            value='613'\n",
              "            max='613',\n",
              "            style='width: 100%'\n",
              "        >\n",
              "            613\n",
              "        </progress>\n",
              "    "
            ],
            "text/plain": [
              "<IPython.core.display.HTML object>"
            ]
          },
          "metadata": {
            "tags": []
          }
        }
      ]
    },
    {
      "cell_type": "code",
      "metadata": {
        "id": "NzHKbYkcqcsi"
      },
      "source": [
        "aux = [len(vocab_to_int)] * max_number_assigns\n",
        "\n",
        "for est in range(len(array_data)):\n",
        "    for i in range(max_number_trims - len(array_data[est])):\n",
        "        array_data[est].append(aux)"
      ],
      "execution_count": 76,
      "outputs": []
    },
    {
      "cell_type": "code",
      "metadata": {
        "id": "X5g0Nc3yRPAu"
      },
      "source": [
        "# Se construye una matriz, de una sola columna, para cada uno de los estudiantes\n",
        "sigm_target = np.zeros((len(array_target), 1), dtype=int)\n",
        "\n",
        "# Si el estudiante no retiró o reprobó alguna de las materias en el trimestre, se cambia el valor de la columna a 1 \n",
        "# Que indica que el estudiante obtuvo una calificació buena o mayor en todas las materias que cursó \n",
        "for i in range(len(array_target)):\n",
        "    count = 0\n",
        "    for j in range(len(array_target[i])):\n",
        "        if array_target[i][j] != len(vocab_to_int) and (array_target[i][j].split('_')[1] == 'Withdraw' or array_target[i][j].split('_')[1] == 'Failed'): \n",
        "            count += 1\n",
        "\n",
        "    if count == 0:\n",
        "        sigm_target[i] = 1 "
      ],
      "execution_count": 77,
      "outputs": []
    },
    {
      "cell_type": "code",
      "metadata": {
        "id": "RE_ZyUI24bIZ"
      },
      "source": [
        "for i in range(len(array_target)):\n",
        "    for j in range(len(array_target[i])):\n",
        "        if array_target[i][j] != len(vocab_to_int):\n",
        "            array_target[i][j] = array_target[i][j].split('_')[0]\n",
        "\n",
        "        else:\n",
        "            array_target[i][j] = 0"
      ],
      "execution_count": 78,
      "outputs": []
    },
    {
      "cell_type": "code",
      "metadata": {
        "id": "fw8XlWeDRUB9"
      },
      "source": [
        "# Se convierte cada uno de los strings de materias en los índices, utilizando los diccionarios definidos anteriormente \n",
        "for i in range(len(array_data)):\n",
        "    for j in range(len(array_data[i])):\n",
        "        for k in range(len(array_data[i][j])):\n",
        "            if array_data[i][j][k] != len(vocab_to_int):\n",
        "                array_data[i][j][k] = vocab_to_int[array_data[i][j][k]]"
      ],
      "execution_count": 79,
      "outputs": []
    },
    {
      "cell_type": "code",
      "metadata": {
        "id": "WjbAkXowqcsi"
      },
      "source": [
        "# Los arrays son del tipo 'list', se convierten a arrays númericos \n",
        "for i in range(len(array_data)):\n",
        "    for j in range(len(array_data[i])):\n",
        "        array_data[i][j] = np.asarray(array_data[i][j])\n",
        "    array_data[i] = np.asarray(array_data[i])\n",
        "    \n",
        "for i in range(len(array_target_output)):\n",
        "    array_target_output[i] = np.asarray(array_target_output[i])\n",
        "    \n",
        "array_data = np.asarray(array_data)\n",
        "array_target_output = np.asarray(array_target_output)\n",
        "sigm_target = np.asarray(sigm_target)"
      ],
      "execution_count": 80,
      "outputs": []
    },
    {
      "cell_type": "code",
      "metadata": {
        "id": "5fYHoziIwe73",
        "colab": {
          "base_uri": "https://localhost:8080/"
        },
        "outputId": "0da5781b-6880-44f1-9993-26d7570ee3f5"
      },
      "source": [
        "X_test, Y_test, O_test = array_data, array_target_output, sigm_target\n",
        "\n",
        "print(X_test.shape)\n",
        "print(Y_test.shape)\n",
        "print(O_test.shape)"
      ],
      "execution_count": 82,
      "outputs": [
        {
          "output_type": "stream",
          "text": [
            "(613, 24, 7)\n",
            "(613, 466)\n",
            "(613, 1)\n"
          ],
          "name": "stdout"
        }
      ]
    },
    {
      "cell_type": "markdown",
      "metadata": {
        "id": "SEMcFD4IirRc"
      },
      "source": [
        "*Cargar archivos para probar de forma manual*"
      ]
    },
    {
      "cell_type": "markdown",
      "metadata": {
        "id": "4XdaMArsiwkk"
      },
      "source": [
        "*Predicciones del conjunto de prueba*"
      ]
    },
    {
      "cell_type": "code",
      "metadata": {
        "id": "OKsiEpmIIoUX"
      },
      "source": [
        "def prediction():\n",
        "    Y_hat_train = model.predict([X_train, Y_train])\n",
        "    train_auc = roc_auc_score(O_train, Y_hat_train)\n",
        "  \n",
        "    Y_hat_dev = model.predict([X_dev, Y_dev])\n",
        "    dev_auc = roc_auc_score(O_dev, Y_hat_dev)\n",
        "\n",
        "    Y_hat_test = model.predict([X_test, Y_test])\n",
        "    test_auc = roc_auc_score(O_test, Y_hat_test)\n",
        "\n",
        "    return (train_auc, dev_auc, test_auc)"
      ],
      "execution_count": 83,
      "outputs": []
    },
    {
      "cell_type": "code",
      "metadata": {
        "id": "0vioxo-gIshV"
      },
      "source": [
        "train_auc, dev_auc, test_auc = prediction()"
      ],
      "execution_count": 84,
      "outputs": []
    },
    {
      "cell_type": "code",
      "metadata": {
        "id": "g6G_2Ms0qcsk",
        "colab": {
          "base_uri": "https://localhost:8080/"
        },
        "outputId": "1ffe4e26-2d1d-4da3-e24e-2f5067876cbc"
      },
      "source": [
        "print(f\"Train AUC: {train_auc.mean()}\")\n",
        "print(f\"Dev AUC: {dev_auc.mean()}\")\n",
        "print(f\"Test AUC: {test_auc.mean()}\")"
      ],
      "execution_count": 85,
      "outputs": [
        {
          "output_type": "stream",
          "text": [
            "Train AUC: 0.8225091070224597\n",
            "Dev AUC: 0.7979257117102574\n",
            "Test AUC: 0.8337557439954522\n"
          ],
          "name": "stdout"
        }
      ]
    },
    {
      "cell_type": "markdown",
      "metadata": {
        "id": "WCYjV0Tg0dYi"
      },
      "source": [
        "## Referencias"
      ]
    },
    {
      "cell_type": "markdown",
      "metadata": {
        "id": "lBOqTgVl0loh"
      },
      "source": [
        "Keras. (1 de marzo de 2021). *Keras*. Recuperado de: https://keras.io/getting-started/functional-api-guide/\n",
        "\n",
        "Keras. (1 de marzo de 2021). *Embedding Layer*. Recuperado de: https://keras.io/api/layers/core_layers/embedding/\n",
        "\n",
        "Keras. (21 de mayo de 2021). *ConvLstm2D*. Recuperado de: https://keras.io/api/layers/recurrent_layers/conv_lstm2d/\n",
        "\n",
        "NumPy. (2019). *NumPy*. Recuperado de: https://docs.scipy.org/doc/numpy/reference/generated/numpy.ndarray.tolist.html\n",
        "\n",
        "PyImageSearch. (4 de febrero de 2019). *Keras: Multiple Inputs and Mixed Data*. Recuperado de: https://www.pyimagesearch.com/2019/02/04/keras-multiple-inputs-and-mixed-data/"
      ]
    }
  ]
}